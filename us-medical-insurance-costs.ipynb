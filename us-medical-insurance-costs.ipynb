{
 "cells": [
  {
   "cell_type": "markdown",
   "metadata": {},
   "source": [
    "# U.S. Medical Insurance Costs\n",
    "\n",
    "In this project, we are going to analize a dataset about the U.S. Medical Insurance Costs. The goal of the project is using the Python fundamentals I learnt about in the first two months of 2021 and extrapolate as much data as possible.\n",
    "The Python fundamentals I learnt in this carrer path have been:\n",
    "* Syntax\n",
    "* Variables\n",
    "* Functions\n",
    "* Control Flow \n",
    "* Lists\n",
    "* Loops\n",
    "* Strings\n",
    "* Dictionaries\n",
    "* Classes\n",
    "* Modules\n",
    "* Files"
   ]
  },
  {
   "cell_type": "code",
   "execution_count": 2,
   "metadata": {},
   "outputs": [],
   "source": [
    "import csv"
   ]
  },
  {
   "cell_type": "markdown",
   "metadata": {},
   "source": [
    "First thing first, I import the csv library, since the file we are going to use is in a .csv form."
   ]
  },
  {
   "cell_type": "code",
   "execution_count": 90,
   "metadata": {},
   "outputs": [
    {
     "name": "stdout",
     "output_type": "stream",
     "text": [
      "1338\n"
     ]
    }
   ],
   "source": [
    "with open('insurance.csv') as insurance:\n",
    "    csv_info = insurance.readline()\n",
    "    csv_categories = csv_info.split(\",\")\n",
    "    age_key = csv_categories[0]\n",
    "    sex_key = csv_categories[1]\n",
    "    bmi_key = csv_categories[2]\n",
    "    children_key = csv_categories[3]\n",
    "    smoker_key = csv_categories[4]\n",
    "    region_key = csv_categories[5]\n",
    "    charges_key = \"charges\"\n",
    "\n",
    "    age_value = []\n",
    "    sex_value = []\n",
    "    bmi_value = []\n",
    "    children_value = []\n",
    "    smoker_value = []\n",
    "    region_value = []\n",
    "    charges_value = []\n",
    "    \n",
    "    csv_data = insurance.readlines()\n",
    "    for line in csv_data:\n",
    "        csv_category = line.split(\",\")\n",
    "        age_value.append(csv_category[0])\n",
    "        sex_value.append(csv_category[1])\n",
    "        bmi_value.append(csv_category[2])\n",
    "        children_value.append(csv_category[3])\n",
    "        smoker_value.append(csv_category[4]) \n",
    "        region_value.append(csv_category[5])\n",
    "        charges_value.append(csv_category[6][:-2])\n",
    "    \n",
    "    dataset = {}\n",
    "    dataset[age_key] = age_value\n",
    "    dataset[sex_key] = sex_value\n",
    "    dataset[bmi_key] = bmi_value\n",
    "    dataset[children_key] = children_value\n",
    "    dataset[smoker_key] = smoker_value\n",
    "    dataset[region_key] = region_value\n",
    "    dataset[charges_key] = charges_value\n",
    "    \n",
    "    print(len(dataset['age']))"
   ]
  },
  {
   "cell_type": "markdown",
   "metadata": {},
   "source": [
    "(N.B. future me will hate these line of codes) with this line of code we create a usable way to use our dataset of 1338 patients, putting every category (age, sex, ...) as a key of a long list of data.\n",
    "Now we can easily access every category of our reports:\n",
    "* (0) Patient Age (numerical discrete)\n",
    "* (1) Patient Sex (categorical nominal)\n",
    "* (2) Patient Bmi (numerical continuous)\n",
    "* (3) Patient Number of children (numerical discrete)\n",
    "* (4) Patient Smoking status (categorical nominal)\n",
    "* (5) Patient Region (categorical nominal)\n",
    "* (6) Patient Charge (numerical continuous)"
   ]
  },
  {
   "cell_type": "markdown",
   "metadata": {},
   "source": [
    "Let's start listing some of the analysis we want to do with this data:\n",
    "\n",
    "- Is the average age of this dataset equal to the mean of the USA population (38,2)?\n",
    "- Where do most people come from?\n",
    "- What is the average difference in cost between smokers and non-smokers?\n",
    "- How many of the patients are smokers?\n",
    "- What is the average age of people without children? While the mean of people with children?\n",
    "- What is the proportions of smokers between the two sexes?\n",
    "- What is the average age per region?\n",
    "- ..."
   ]
  },
  {
   "cell_type": "code",
   "execution_count": 18,
   "metadata": {},
   "outputs": [
    {
     "name": "stdout",
     "output_type": "stream",
     "text": [
      "39.20702541106129\n"
     ]
    }
   ],
   "source": [
    "sum_of_ages = 0\n",
    "for age in dataset['age']:\n",
    "    sum_of_ages += int(age)\n",
    "average_age = sum_of_ages / len(dataset['age'])\n",
    "print(average_age)"
   ]
  },
  {
   "cell_type": "markdown",
   "metadata": {},
   "source": [
    "As we can see the average age in this dataset is greater than the mean of the USA population. One of the reasons of this discrepancy could be a higher chance of having a medical condition at an older age and/or the absence of minors in this dataset."
   ]
  },
  {
   "cell_type": "code",
   "execution_count": 125,
   "metadata": {},
   "outputs": [
    {
     "name": "stdout",
     "output_type": "stream",
     "text": [
      "southwest has 24.28998505231689% of people in the dataset (325 patients)\n",
      "southeast has 27.204783258594915% of people in the dataset (364 patients)\n",
      "northwest has 24.28998505231689% of people in the dataset (325 patients)\n",
      "northeast has 24.2152466367713% of people in the dataset (324 patients)\n"
     ]
    }
   ],
   "source": [
    "regions = {}\n",
    "for region in dataset['region']:\n",
    "    if region not in regions.keys():\n",
    "        regions[region] = 1\n",
    "    else:\n",
    "        regions[region] = regions[region] + 1\n",
    "\n",
    "for region in regions.keys():\n",
    "    percent = (regions[region] / len(dataset['region'])) * 100\n",
    "    print(region + \" has \" + str(percent) + \"% of people in the dataset (\" +str(regions[region]) + \" patients)\")"
   ]
  },
  {
   "cell_type": "markdown",
   "metadata": {},
   "source": [
    "We can see how we have a somewhat equal percent of people that come from all regions, with an explicable high percent of patients from southeast."
   ]
  },
  {
   "cell_type": "code",
   "execution_count": 89,
   "metadata": {},
   "outputs": [
    {
     "name": "stdout",
     "output_type": "stream",
     "text": [
      "The average cost of a smoker is 31923.07308978102dollars.\n",
      "The average cost of a non smoker is 8434.264588637203dollars.\n",
      "The average difference between a smoker and a non smoker is 23488.808501143816dollars.\n",
      "The percent of smokers is 20.47832585949178%.\n"
     ]
    }
   ],
   "source": [
    "average_cost_smoker = 0\n",
    "average_cost_non_smoker = 0\n",
    "\n",
    "denominator_smoker = 0\n",
    "denominator_non_smoker = 0\n",
    "for index in range(0, len(dataset['smoker'])):\n",
    "    \n",
    "    if dataset['smoker'][index] == 'yes':\n",
    "        denominator_smoker += 1\n",
    "        average_cost_smoker += float(dataset['charges'][index])\n",
    "   \n",
    "    elif dataset['smoker'][index] == \"no\":\n",
    "        denominator_non_smoker += 1\n",
    "        average_cost_non_smoker += float(dataset['charges'][index])\n",
    "\n",
    "average_cost_smoker = (average_cost_smoker / denominator_smoker)\n",
    "average_cost_non_smoker = (average_cost_non_smoker / denominator_non_smoker)\n",
    "print('The average cost of a smoker is ' + str(average_cost_smoker) + \"dollars.\")\n",
    "print('The average cost of a non smoker is ' + str(average_cost_non_smoker) + \"dollars.\")\n",
    "print('The average difference between a smoker and a non smoker is ' + str((average_cost_smoker - average_cost_non_smoker)) + \"dollars.\")\n",
    "\n",
    "percent = 0\n",
    "for i in dataset['smoker']:\n",
    "    if i == 'yes':\n",
    "        percent += 1\n",
    "    else:\n",
    "        continue\n",
    "percent = (percent / len(dataset['smoker'])) * 100\n",
    "print(\"The percent of smokers is \" + str(percent) + \"%.\")"
   ]
  },
  {
   "cell_type": "markdown",
   "metadata": {},
   "source": [
    "We answer two questions with the same code: first we can notice how being a smoker increases your bill by about 23488$. We can see that about 20 percent of patients are smokers, 5 percent more than the USA estimated percent (15 percent according to CDC), with this information we can clearly say that being a smoker raises your chances of having some medical conditions in the near future."
   ]
  },
  {
   "cell_type": "code",
   "execution_count": 108,
   "metadata": {},
   "outputs": [
    {
     "name": "stdout",
     "output_type": "stream",
     "text": [
      "The average age of a patient with children is 39.78010471204188\n",
      "The average age of a patient without children is 38.444250871080136\n"
     ]
    }
   ],
   "source": [
    "average_age_w_children = 0\n",
    "average_age_wo_children = 0\n",
    "list_w_children = 0\n",
    "list_wo_children = 0\n",
    "for index in range(0, len(dataset['children'])):\n",
    "    num_of_children = dataset['children'][index]\n",
    "    \n",
    "    if num_of_children != '0':\n",
    "        average_age_w_children += int(dataset['age'][index])\n",
    "        list_w_children += 1\n",
    "        \n",
    "    else:\n",
    "        average_age_wo_children += int(dataset['age'][index])\n",
    "        list_wo_children += 1\n",
    "average_age_w_children = average_age_w_children / list_w_children\n",
    "average_age_wo_children = average_age_wo_children / list_wo_children\n",
    "print(\"The average age of a patient with children is \" + str(average_age_w_children))\n",
    "print(\"The average age of a patient without children is \" + str(average_age_wo_children))"
   ]
  },
  {
   "cell_type": "markdown",
   "metadata": {},
   "source": [
    "As we can see there is a little difference between people with and without children, since the probability of someone being a parent increases as time goes on."
   ]
  },
  {
   "cell_type": "code",
   "execution_count": 113,
   "metadata": {},
   "outputs": [
    {
     "name": "stdout",
     "output_type": "stream",
     "text": [
      "In this dataset there are 159 male smokers (58.02919708029197 percent of all smokers.)\n",
      "In this dataset there are 115 female smokers (41.97080291970803 percent of all smokers.)\n"
     ]
    }
   ],
   "source": [
    "num_of_male_smokers = 0\n",
    "num_of_female_smokers = 0\n",
    "smokers = 0\n",
    "for index in range(0, len(dataset['smoker'])):\n",
    "    if dataset['smoker'][index] == 'yes':\n",
    "        \n",
    "        if dataset['sex'][index] == \"male\":\n",
    "            num_of_male_smokers += 1\n",
    "        else:\n",
    "            num_of_female_smokers += 1\n",
    "        smokers += 1\n",
    "        \n",
    "percent_male = (num_of_male_smokers / smokers) * 100\n",
    "percent_female = (num_of_female_smokers / smokers) * 100\n",
    "print(\"In this dataset there are \" + str(num_of_male_smokers) + \" male smokers (\" + str(percent_male) + \" percent of all smokers.)\")\n",
    "print(\"In this dataset there are \" + str(num_of_female_smokers) + \" female smokers (\" + str(percent_female) + \" percent of all smokers.)\")"
   ]
  },
  {
   "cell_type": "markdown",
   "metadata": {},
   "source": [
    "The data we just studied reveals how about 58% of the smokers are male."
   ]
  },
  {
   "cell_type": "code",
   "execution_count": 134,
   "metadata": {
    "scrolled": true
   },
   "outputs": [
    {
     "name": "stdout",
     "output_type": "stream",
     "text": [
      "southwest has an average age of 39.51851851851852\n",
      "southeast has an average age of 38.99724517906336\n",
      "northwest has an average age of 39.21604938271605\n",
      "northeast has an average age of 39.27554179566563\n"
     ]
    }
   ],
   "source": [
    "average_age_per_region = {}\n",
    "len_per_region = {}\n",
    "for index in range(0, len(dataset[\"region\"])):\n",
    "    if dataset[\"region\"][index] not in average_age_per_region.keys():\n",
    "        average_age_per_region[dataset[\"region\"][index]] = 0\n",
    "        len_per_region[dataset[\"region\"][index]] = 0\n",
    "    else:\n",
    "        average_age_per_region[dataset[\"region\"][index]] += int(dataset[\"age\"][index])\n",
    "        len_per_region[dataset[\"region\"][index]] += 1\n",
    "\n",
    "for index in average_age_per_region.keys():\n",
    "         average_age_per_region[index] = average_age_per_region[index] / len_per_region[index]\n",
    "         print(index + \" has an average age of \" +str(average_age_per_region[index]))"
   ]
  },
  {
   "cell_type": "markdown",
   "metadata": {},
   "source": [
    "No important differences can be seen by looking at this data."
   ]
  },
  {
   "cell_type": "markdown",
   "metadata": {},
   "source": [
    "This is the end of my project; in the future I may extend this data analysis with graphs and/or revisiting my code.\n",
    "I'm really satisfied with how I approached this project and I hope it won't be the last!"
   ]
  }
 ],
 "metadata": {
  "kernelspec": {
   "display_name": "Python 3",
   "language": "python",
   "name": "python3"
  },
  "language_info": {
   "codemirror_mode": {
    "name": "ipython",
    "version": 3
   },
   "file_extension": ".py",
   "mimetype": "text/x-python",
   "name": "python",
   "nbconvert_exporter": "python",
   "pygments_lexer": "ipython3",
   "version": "3.8.5"
  }
 },
 "nbformat": 4,
 "nbformat_minor": 4
}
